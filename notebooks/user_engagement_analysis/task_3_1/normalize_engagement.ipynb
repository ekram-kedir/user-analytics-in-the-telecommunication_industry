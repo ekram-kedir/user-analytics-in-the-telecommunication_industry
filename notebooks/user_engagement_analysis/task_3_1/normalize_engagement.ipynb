{
 "cells": [
  {
   "cell_type": "code",
   "execution_count": 15,
   "metadata": {},
   "outputs": [],
   "source": [
    "import os\n",
    "import sys\n",
    "import numpy as np\n",
    "import pandas as pd\n",
    "from sklearn.preprocessing import StandardScaler\n",
    "from sklearn.cluster import KMeans\n",
    "\n",
    "notebook_name = 'normalize_engagement.ipynb'\n",
    "\n",
    "current_dir = os.path.dirname(os.path.abspath(notebook_name))\n",
    "parent_dir = os.path.abspath(os.path.join(current_dir, '..', '..', '..'))\n",
    "\n",
    "\n",
    "sys.path.insert(1, parent_dir)\n",
    "from src.data_processer import TelecomDataProcessor\n"
   ]
  },
  {
   "cell_type": "code",
   "execution_count": 3,
   "metadata": {},
   "outputs": [],
   "source": [
    "# Replace 'your_conn_params' with your actual connection parameters\n",
    "conn_params = {\n",
    "    'host': 'localhost',\n",
    "    'port': 5432,\n",
    "    'user': 'ekru',\n",
    "    'password': 'ekram12345',\n",
    "    'database': 'tellco',\n",
    "}\n",
    "\n",
    "telecom_data_processor = TelecomDataProcessor(conn_params)"
   ]
  },
  {
   "cell_type": "code",
   "execution_count": 4,
   "metadata": {},
   "outputs": [
    {
     "name": "stderr",
     "output_type": "stream",
     "text": [
      "/home/ekram/Desktop/week-1/user_analytics_in_the_telecommunication_industry/src/data_processer.py:63: UserWarning: pandas only supports SQLAlchemy connectable (engine/connection) or database string URI or sqlite3 DBAPI2 connection. Other DBAPI2 objects are not tested. Please consider using SQLAlchemy.\n",
      "  df = pd.read_sql(sql_query, conn)\n"
     ]
    }
   ],
   "source": [
    "df = telecom_data_processor.load_dataset()"
   ]
  },
  {
   "cell_type": "code",
   "execution_count": 6,
   "metadata": {},
   "outputs": [],
   "source": [
    "cleaned_df = telecom_data_processor.clean_dataset(df)"
   ]
  },
  {
   "cell_type": "code",
   "execution_count": 7,
   "metadata": {},
   "outputs": [
    {
     "name": "stdout",
     "output_type": "stream",
     "text": [
      "          BEARER_ID       START_MS         END_MS     DUR._(MS)          IMSI  \\\n",
      "count  1.500010e+05  150001.000000  150001.000000  1.500010e+05  1.500010e+05   \n",
      "mean   1.013887e+19     499.661213     499.273526  1.046086e+05  2.082016e+14   \n",
      "std    2.883600e+18     288.201515     287.687241  8.103735e+04  2.144722e+10   \n",
      "min    6.917538e+18       1.000000       1.000000  7.142000e+03  2.040471e+14   \n",
      "25%    7.349883e+18     251.000000     252.000000  5.744200e+04  2.082014e+14   \n",
      "50%    7.349883e+18     499.661213     500.000000  8.639900e+04  2.082015e+14   \n",
      "75%    1.304243e+19     749.000000     750.000000  1.324300e+05  2.082018e+14   \n",
      "max    1.318654e+19     999.000000     999.000000  1.859336e+06  2.140743e+14   \n",
      "\n",
      "       MSISDN/NUMBER          IMEI  AVG_RTT_DL_(MS)  AVG_RTT_UL_(MS)  \\\n",
      "count   1.500010e+05  1.500010e+05    150001.000000    150001.000000   \n",
      "mean    4.188282e+10  4.847455e+13       109.803795        18.280156   \n",
      "std     2.438731e+12  2.237359e+13       559.341973        76.471886   \n",
      "min     3.360100e+10  4.400152e+11         2.000000         1.000000   \n",
      "25%     3.365151e+10  3.546261e+13        35.000000         4.000000   \n",
      "50%     3.366380e+10  3.572241e+13        54.000000         9.000000   \n",
      "75%     3.368473e+10  8.611970e+13       109.803795        18.280156   \n",
      "max     8.823971e+14  9.900120e+13     96923.000000      7120.000000   \n",
      "\n",
      "       AVG_BEARER_TP_DL_(KBPS)  ...  YOUTUBE_DL_(BYTES)  YOUTUBE_UL_(BYTES)  \\\n",
      "count            150001.000000  ...        1.500010e+05        1.500010e+05   \n",
      "mean              13381.943420  ...        1.163407e+07        1.100941e+07   \n",
      "std               23949.068654  ...        6.710569e+06        6.345423e+06   \n",
      "min                   1.000000  ...        5.300000e+01        1.050000e+02   \n",
      "25%                  43.000000  ...        5.833501e+06        5.517965e+06   \n",
      "50%                  65.000000  ...        1.161602e+07        1.101345e+07   \n",
      "75%               19710.000000  ...        1.744852e+07        1.651556e+07   \n",
      "max              378160.000000  ...        2.325910e+07        2.201196e+07   \n",
      "\n",
      "       NETFLIX_DL_(BYTES)  NETFLIX_UL_(BYTES)  GAMING_DL_(BYTES)  \\\n",
      "count        1.500010e+05        1.500010e+05       1.500010e+05   \n",
      "mean         1.162685e+07        1.100175e+07       4.220447e+08   \n",
      "std          6.725218e+06        6.359490e+06       2.439675e+08   \n",
      "min          4.200000e+01        3.500000e+01       2.516000e+03   \n",
      "25%          5.777156e+06        5.475981e+06       2.104733e+08   \n",
      "50%          1.164222e+07        1.099638e+07       4.234081e+08   \n",
      "75%          1.747048e+07        1.650727e+07       6.331742e+08   \n",
      "max          2.325919e+07        2.201196e+07       8.434419e+08   \n",
      "\n",
      "       GAMING_UL_(BYTES)  OTHER_DL_(BYTES)  OTHER_UL_(BYTES)  \\\n",
      "count       1.500010e+05      1.500010e+05      1.500010e+05   \n",
      "mean        8.288398e+06      4.211005e+08      8.264799e+06   \n",
      "std         4.782700e+06      2.432050e+08      4.769004e+06   \n",
      "min         5.900000e+01      3.290000e+03      1.480000e+02   \n",
      "25%         4.128476e+06      2.101869e+08      4.145943e+06   \n",
      "50%         8.291208e+06      4.218030e+08      8.267071e+06   \n",
      "75%         1.243162e+07      6.316918e+08      1.238415e+07   \n",
      "max         1.655879e+07      8.434425e+08      1.655882e+07   \n",
      "\n",
      "       TOTAL_UL_(BYTES)  TOTAL_DL_(BYTES)  \n",
      "count      1.500010e+05      1.500010e+05  \n",
      "mean       4.112121e+07      4.546434e+08  \n",
      "std        1.127635e+07      2.441421e+08  \n",
      "min        2.866892e+06      7.114041e+06  \n",
      "25%        3.322203e+07      2.431072e+08  \n",
      "50%        4.114324e+07      4.558409e+08  \n",
      "75%        4.903424e+07      6.657051e+08  \n",
      "max        7.833131e+07      9.029696e+08  \n",
      "\n",
      "[8 rows x 50 columns]\n"
     ]
    }
   ],
   "source": [
    "telecom_data_processor.overview_analysis(cleaned_df)"
   ]
  },
  {
   "cell_type": "code",
   "execution_count": 16,
   "metadata": {},
   "outputs": [
    {
     "name": "stderr",
     "output_type": "stream",
     "text": [
      "/tmp/ipykernel_10825/3399053191.py:10: FutureWarning: Indexing with multiple keys (implicitly converted to a tuple of keys) will be deprecated, use a list instead.\n",
      "  total_traffic = cleaned_df.groupby('MSISDN/NUMBER')['TOTAL_UL_(BYTES)', 'TOTAL_DL_(BYTES)'].sum().reset_index()\n",
      "/home/ekram/anaconda3/envs/week0/lib/python3.12/site-packages/sklearn/cluster/_kmeans.py:1416: FutureWarning: The default value of `n_init` will change from 10 to 'auto' in 1.4. Set the value of `n_init` explicitly to suppress the warning\n",
      "  super()._check_params_vs_input(X, default_n_init=10)\n"
     ]
    },
    {
     "name": "stdout",
     "output_type": "stream",
     "text": [
      "Engagement Metrics with Cluster Labels:\n",
      "        MSISDN/NUMBER  SESSIONS FREQUENCY  TOTAL SESSION DURATION (MS)  \\\n",
      "0        3.360100e+10                   1                 1.167200e+05   \n",
      "1        3.360100e+10                   1                 1.812300e+05   \n",
      "2        3.360100e+10                   1                 1.349690e+05   \n",
      "3        3.360101e+10                   1                 4.987800e+04   \n",
      "4        3.360101e+10                   2                 3.710400e+04   \n",
      "...               ...                 ...                          ...   \n",
      "106852   3.379000e+10                   1                 1.409880e+05   \n",
      "106853   4.188282e+10                1066                 7.255100e+07   \n",
      "106854   3.197021e+12                   1                 8.773850e+05   \n",
      "106855   3.370000e+14                   1                 2.530300e+05   \n",
      "106856   8.823971e+14                   1                 8.698440e+05   \n",
      "\n",
      "        TOTAL TRAFFIC (BYTES)  CLUSTER  \n",
      "0                8.786906e+08        0  \n",
      "1                1.568596e+08        0  \n",
      "2                5.959665e+08        0  \n",
      "3                4.223207e+08        0  \n",
      "4                1.457411e+09        0  \n",
      "...                       ...      ...  \n",
      "106852           4.803073e+08        0  \n",
      "106853           5.317447e+11        1  \n",
      "106854           2.321240e+08        2  \n",
      "106855           5.962878e+08        0  \n",
      "106856           1.391536e+08        2  \n",
      "\n",
      "[106857 rows x 5 columns]\n"
     ]
    }
   ],
   "source": [
    "# Aggregate sessions frequency per customer\n",
    "sessions_frequency = cleaned_df.groupby('MSISDN/NUMBER')['BEARER_ID'].count().reset_index()\n",
    "sessions_frequency.columns = ['MSISDN/NUMBER', 'SESSIONS FREQUENCY']\n",
    "\n",
    "# Aggregate session duration per customer\n",
    "session_duration = cleaned_df.groupby('MSISDN/NUMBER')['DUR._(MS)'].sum().reset_index()\n",
    "session_duration.columns = ['MSISDN/NUMBER', 'TOTAL SESSION DURATION (MS)']\n",
    "\n",
    "# Aggregate total traffic per customer (download + upload)\n",
    "total_traffic = cleaned_df.groupby('MSISDN/NUMBER')['TOTAL_UL_(BYTES)', 'TOTAL_DL_(BYTES)'].sum().reset_index()\n",
    "total_traffic['TOTAL TRAFFIC (BYTES)'] = total_traffic['TOTAL_UL_(BYTES)'] + total_traffic['TOTAL_DL_(BYTES)']\n",
    "total_traffic = total_traffic[['MSISDN/NUMBER', 'TOTAL TRAFFIC (BYTES)']]\n",
    "\n",
    "# Combine the metrics into a single DataFrame\n",
    "engagement_metrics = pd.merge(sessions_frequency, session_duration, on='MSISDN/NUMBER')\n",
    "engagement_metrics = pd.merge(engagement_metrics, total_traffic, on='MSISDN/NUMBER')\n",
    "\n",
    "# Normalize the engagement metrics\n",
    "scaler = StandardScaler()\n",
    "normalized_metrics = scaler.fit_transform(engagement_metrics.drop('MSISDN/NUMBER', axis=1))\n",
    "\n",
    "# Perform k-means clustering (k=3)\n",
    "kmeans = KMeans(n_clusters=3, random_state=42)\n",
    "engagement_clusters = kmeans.fit_predict(normalized_metrics)\n",
    "\n",
    "# Add the cluster labels to the DataFrame\n",
    "engagement_metrics['CLUSTER'] = engagement_clusters\n",
    "\n",
    "# Display the results\n",
    "print(\"Engagement Metrics with Cluster Labels:\")\n",
    "print(engagement_metrics)"
   ]
  }
 ],
 "metadata": {
  "kernelspec": {
   "display_name": "week0",
   "language": "python",
   "name": "python3"
  },
  "language_info": {
   "codemirror_mode": {
    "name": "ipython",
    "version": 3
   },
   "file_extension": ".py",
   "mimetype": "text/x-python",
   "name": "python",
   "nbconvert_exporter": "python",
   "pygments_lexer": "ipython3",
   "version": "3.12.0"
  },
  "orig_nbformat": 4
 },
 "nbformat": 4,
 "nbformat_minor": 2
}
