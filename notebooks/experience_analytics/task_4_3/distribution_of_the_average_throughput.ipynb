{
 "cells": [
  {
   "cell_type": "code",
   "execution_count": 7,
   "metadata": {},
   "outputs": [],
   "source": [
    "import os\n",
    "import sys\n",
    "import numpy as np\n",
    "import pandas as pd\n",
    "\n",
    "notebook_name = 'rtt_values.ipynb'\n",
    "\n",
    "current_dir = os.path.dirname(os.path.abspath(notebook_name))\n",
    "parent_dir = os.path.abspath(os.path.join(current_dir, '..', '..', '..'))\n",
    "\n",
    "\n",
    "sys.path.insert(1, parent_dir)\n",
    "from src.data_processer import TelecomDataProcessor\n"
   ]
  },
  {
   "cell_type": "code",
   "execution_count": 8,
   "metadata": {},
   "outputs": [],
   "source": [
    "# Replace 'your_conn_params' with your actual connection parameters\n",
    "conn_params = {\n",
    "    'host': 'localhost',\n",
    "    'port': 5432,\n",
    "    'user': 'ekru',\n",
    "    'password': 'ekram12345',\n",
    "    'database': 'tellco',\n",
    "}\n",
    "\n",
    "telecom_data_processor = TelecomDataProcessor(conn_params)"
   ]
  },
  {
   "cell_type": "code",
   "execution_count": 9,
   "metadata": {},
   "outputs": [
    {
     "name": "stderr",
     "output_type": "stream",
     "text": [
      "c:\\Users\\user\\Desktop\\week_1\\user_analytics_in_the_telecommunication_industry\\src\\data_processer.py:63: UserWarning: pandas only supports SQLAlchemy connectable (engine/connection) or database string URI or sqlite3 DBAPI2 connection. Other DBAPI2 objects are not tested. Please consider using SQLAlchemy.\n",
      "  df = pd.read_sql(sql_query, conn)\n"
     ]
    }
   ],
   "source": [
    "df = telecom_data_processor.load_dataset()"
   ]
  },
  {
   "cell_type": "code",
   "execution_count": 13,
   "metadata": {},
   "outputs": [],
   "source": [
    "cleaned_df = telecom_data_processor.clean_dataset(df)"
   ]
  },
  {
   "cell_type": "code",
   "execution_count": 11,
   "metadata": {},
   "outputs": [
    {
     "name": "stdout",
     "output_type": "stream",
     "text": [
      "          BEARER_ID       START_MS         END_MS     DUR._(MS)          IMSI  \\\n",
      "count  1.500010e+05  150001.000000  150001.000000  1.500010e+05  1.500010e+05   \n",
      "mean   1.013887e+19     499.661213     499.273526  1.046086e+05  2.082016e+14   \n",
      "std    2.883600e+18     288.201515     287.687241  8.103735e+04  2.144722e+10   \n",
      "min    6.917538e+18       1.000000       1.000000  7.142000e+03  2.040471e+14   \n",
      "25%    7.349883e+18     251.000000     252.000000  5.744200e+04  2.082014e+14   \n",
      "50%    7.349883e+18     499.661213     500.000000  8.639900e+04  2.082015e+14   \n",
      "75%    1.304243e+19     749.000000     750.000000  1.324300e+05  2.082018e+14   \n",
      "max    1.318654e+19     999.000000     999.000000  1.859336e+06  2.140743e+14   \n",
      "\n",
      "       MSISDN/NUMBER          IMEI  AVG_RTT_DL_(MS)  AVG_RTT_UL_(MS)  \\\n",
      "count   1.500010e+05  1.500010e+05    150001.000000    150001.000000   \n",
      "mean    4.188282e+10  4.847455e+13       109.803795        18.280156   \n",
      "std     2.438731e+12  2.237359e+13       559.341973        76.471886   \n",
      "min     3.360100e+10  4.400152e+11         2.000000         1.000000   \n",
      "25%     3.365151e+10  3.546261e+13        35.000000         4.000000   \n",
      "50%     3.366380e+10  3.572241e+13        54.000000         9.000000   \n",
      "75%     3.368473e+10  8.611970e+13       109.803795        18.280156   \n",
      "max     8.823971e+14  9.900120e+13     96923.000000      7120.000000   \n",
      "\n",
      "       AVG_BEARER_TP_DL_(KBPS)  ...  YOUTUBE_DL_(BYTES)  YOUTUBE_UL_(BYTES)  \\\n",
      "count            150001.000000  ...        1.500010e+05        1.500010e+05   \n",
      "mean              13381.943420  ...        1.163407e+07        1.100941e+07   \n",
      "std               23949.068654  ...        6.710569e+06        6.345423e+06   \n",
      "min                   1.000000  ...        5.300000e+01        1.050000e+02   \n",
      "25%                  43.000000  ...        5.833501e+06        5.517965e+06   \n",
      "50%                  65.000000  ...        1.161602e+07        1.101345e+07   \n",
      "75%               19710.000000  ...        1.744852e+07        1.651556e+07   \n",
      "max              378160.000000  ...        2.325910e+07        2.201196e+07   \n",
      "\n",
      "       NETFLIX_DL_(BYTES)  NETFLIX_UL_(BYTES)  GAMING_DL_(BYTES)  \\\n",
      "count        1.500010e+05        1.500010e+05       1.500010e+05   \n",
      "mean         1.162685e+07        1.100175e+07       4.220447e+08   \n",
      "std          6.725218e+06        6.359490e+06       2.439675e+08   \n",
      "min          4.200000e+01        3.500000e+01       2.516000e+03   \n",
      "25%          5.777156e+06        5.475981e+06       2.104733e+08   \n",
      "50%          1.164222e+07        1.099638e+07       4.234081e+08   \n",
      "75%          1.747048e+07        1.650727e+07       6.331742e+08   \n",
      "max          2.325919e+07        2.201196e+07       8.434419e+08   \n",
      "\n",
      "       GAMING_UL_(BYTES)  OTHER_DL_(BYTES)  OTHER_UL_(BYTES)  \\\n",
      "count       1.500010e+05      1.500010e+05      1.500010e+05   \n",
      "mean        8.288398e+06      4.211005e+08      8.264799e+06   \n",
      "std         4.782700e+06      2.432050e+08      4.769004e+06   \n",
      "min         5.900000e+01      3.290000e+03      1.480000e+02   \n",
      "25%         4.128476e+06      2.101869e+08      4.145943e+06   \n",
      "50%         8.291208e+06      4.218030e+08      8.267071e+06   \n",
      "75%         1.243162e+07      6.316918e+08      1.238415e+07   \n",
      "max         1.655879e+07      8.434425e+08      1.655882e+07   \n",
      "\n",
      "       TOTAL_UL_(BYTES)  TOTAL_DL_(BYTES)  \n",
      "count      1.500010e+05      1.500010e+05  \n",
      "mean       4.112121e+07      4.546434e+08  \n",
      "std        1.127635e+07      2.441421e+08  \n",
      "min        2.866892e+06      7.114041e+06  \n",
      "25%        3.322203e+07      2.431072e+08  \n",
      "50%        4.114324e+07      4.558409e+08  \n",
      "75%        4.903424e+07      6.657051e+08  \n",
      "max        7.833131e+07      9.029696e+08  \n",
      "\n",
      "[8 rows x 50 columns]\n"
     ]
    }
   ],
   "source": [
    "telecom_data_processor.overview_analysis(cleaned_df)"
   ]
  },
  {
   "cell_type": "code",
   "execution_count": 12,
   "metadata": {},
   "outputs": [
    {
     "name": "stdout",
     "output_type": "stream",
     "text": [
      "Distribution of Average Throughput per Handset Type:\n",
      "                                           HANDSET_TYPE  \\\n",
      "0                            A-Link Telecom I. Cubot A5   \n",
      "1                     A-Link Telecom I. Cubot Note Plus   \n",
      "2                        A-Link Telecom I. Cubot Note S   \n",
      "3                          A-Link Telecom I. Cubot Nova   \n",
      "4                         A-Link Telecom I. Cubot Power   \n",
      "...                                                 ...   \n",
      "1391  Zte Zte Blade C2 Smartphone Android By Sfr Sta...   \n",
      "1392                          Zyxel Communicat. Lte7460   \n",
      "1393                          Zyxel Communicat. Sbg3600   \n",
      "1394                    Zyxel Communicat. Zyxel Wah7706   \n",
      "1395                                          undefined   \n",
      "\n",
      "      AVG_BEARER_TP_DL_(KBPS)  AVG_BEARER_TP_UL_(KBPS)  \n",
      "0                 23184.00000               326.000000  \n",
      "1                  6527.00000               172.000000  \n",
      "2                  8515.00000               422.000000  \n",
      "3                 55667.00000               550.000000  \n",
      "4                 69126.00000               342.000000  \n",
      "...                       ...                      ...  \n",
      "1391                 44.50000                13.500000  \n",
      "1392              39741.00000             22215.000000  \n",
      "1393              82818.00000             14533.000000  \n",
      "1394               1263.00000               910.000000  \n",
      "1395               9267.79814               884.828615  \n",
      "\n",
      "[1396 rows x 3 columns]\n"
     ]
    }
   ],
   "source": [
    "throughput_columns = ['AVG_BEARER_TP_DL_(KBPS)', 'AVG_BEARER_TP_UL_(KBPS)']\n",
    "\n",
    "# Step 1: Compute average throughput per handset type\n",
    "average_throughput_per_handset = cleaned_df.groupby('HANDSET_TYPE')[throughput_columns].mean().reset_index()\n",
    "\n",
    "# Step 3: Report the distribution of average throughput per handset type\n",
    "print(\"Distribution of Average Throughput per Handset Type:\")\n",
    "print(average_throughput_per_handset)"
   ]
  },
  {
   "cell_type": "markdown",
   "metadata": {},
   "source": [
    "# Interpretation of Findings\n",
    "\n",
    "The analysis reveals the average throughput for different handset types, providing valuable insights into the performance of various handsets in terms of data transfer speeds. This information is instrumental in:\n",
    "\n",
    "- **Understanding Performance:** Assessing how different handsets contribute to the overall network performance.\n",
    "\n",
    "- **Identifying Trends:** Recognizing patterns and trends in throughput across various handset types.\n",
    "\n",
    "- **User Preferences:** Gaining insights into user preferences regarding handsets and their corresponding data speeds.\n",
    "\n",
    "- **Network Optimization:** Pinpointing potential areas for improvement in network infrastructure or device compatibility.\n",
    "\n",
    "These findings contribute to informed decision-making, helping optimize network resources and enhance user experiences."
   ]
  }
 ],
 "metadata": {
  "kernelspec": {
   "display_name": "Python 3",
   "language": "python",
   "name": "python3"
  },
  "language_info": {
   "codemirror_mode": {
    "name": "ipython",
    "version": 3
   },
   "file_extension": ".py",
   "mimetype": "text/x-python",
   "name": "python",
   "nbconvert_exporter": "python",
   "pygments_lexer": "ipython3",
   "version": "3.12.0"
  }
 },
 "nbformat": 4,
 "nbformat_minor": 2
}
