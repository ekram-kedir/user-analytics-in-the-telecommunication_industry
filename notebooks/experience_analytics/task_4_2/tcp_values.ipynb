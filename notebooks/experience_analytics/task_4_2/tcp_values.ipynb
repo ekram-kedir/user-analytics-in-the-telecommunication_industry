{
 "cells": [
  {
   "cell_type": "code",
   "execution_count": 1,
   "metadata": {},
   "outputs": [],
   "source": [
    "import os\n",
    "import sys\n",
    "import numpy as np\n",
    "import pandas as pd\n",
    "\n",
    "notebook_name = 'tcp_values.ipynb'\n",
    "\n",
    "current_dir = os.path.dirname(os.path.abspath(notebook_name))\n",
    "parent_dir = os.path.abspath(os.path.join(current_dir, '..', '..', '..'))\n",
    "\n",
    "\n",
    "sys.path.insert(1, parent_dir)\n",
    "from src.data_processer import TelecomDataProcessor\n"
   ]
  },
  {
   "cell_type": "code",
   "execution_count": 2,
   "metadata": {},
   "outputs": [],
   "source": [
    "# Replace 'your_conn_params' with your actual connection parameters\n",
    "conn_params = {\n",
    "    'host': 'localhost',\n",
    "    'port': 5432,\n",
    "    'user': 'ekru',\n",
    "    'password': 'ekram12345',\n",
    "    'database': 'tellco',\n",
    "}\n",
    "\n",
    "telecom_data_processor = TelecomDataProcessor(conn_params)"
   ]
  },
  {
   "cell_type": "code",
   "execution_count": 3,
   "metadata": {},
   "outputs": [
    {
     "name": "stderr",
     "output_type": "stream",
     "text": [
      "c:\\Users\\user\\Desktop\\week_1\\user_analytics_in_the_telecommunication_industry\\src\\data_processer.py:63: UserWarning: pandas only supports SQLAlchemy connectable (engine/connection) or database string URI or sqlite3 DBAPI2 connection. Other DBAPI2 objects are not tested. Please consider using SQLAlchemy.\n",
      "  df = pd.read_sql(sql_query, conn)\n"
     ]
    }
   ],
   "source": [
    "df = telecom_data_processor.load_dataset()"
   ]
  },
  {
   "cell_type": "code",
   "execution_count": 5,
   "metadata": {},
   "outputs": [],
   "source": [
    "cleaned_df = telecom_data_processor.clean_dataset(df)"
   ]
  },
  {
   "cell_type": "code",
   "execution_count": 6,
   "metadata": {},
   "outputs": [
    {
     "name": "stdout",
     "output_type": "stream",
     "text": [
      "          BEARER_ID       START_MS         END_MS     DUR._(MS)          IMSI  \\\n",
      "count  1.500010e+05  150001.000000  150001.000000  1.500010e+05  1.500010e+05   \n",
      "mean   1.013887e+19     499.661213     499.273526  1.046086e+05  2.082016e+14   \n",
      "std    2.883600e+18     288.201515     287.687241  8.103735e+04  2.144722e+10   \n",
      "min    6.917538e+18       1.000000       1.000000  7.142000e+03  2.040471e+14   \n",
      "25%    7.349883e+18     251.000000     252.000000  5.744200e+04  2.082014e+14   \n",
      "50%    7.349883e+18     499.661213     500.000000  8.639900e+04  2.082015e+14   \n",
      "75%    1.304243e+19     749.000000     750.000000  1.324300e+05  2.082018e+14   \n",
      "max    1.318654e+19     999.000000     999.000000  1.859336e+06  2.140743e+14   \n",
      "\n",
      "       MSISDN/NUMBER          IMEI  AVG_RTT_DL_(MS)  AVG_RTT_UL_(MS)  \\\n",
      "count   1.500010e+05  1.500010e+05    150001.000000    150001.000000   \n",
      "mean    4.188282e+10  4.847455e+13       109.803795        18.280156   \n",
      "std     2.438731e+12  2.237359e+13       559.341973        76.471886   \n",
      "min     3.360100e+10  4.400152e+11         2.000000         1.000000   \n",
      "25%     3.365151e+10  3.546261e+13        35.000000         4.000000   \n",
      "50%     3.366380e+10  3.572241e+13        54.000000         9.000000   \n",
      "75%     3.368473e+10  8.611970e+13       109.803795        18.280156   \n",
      "max     8.823971e+14  9.900120e+13     96923.000000      7120.000000   \n",
      "\n",
      "       AVG_BEARER_TP_DL_(KBPS)  ...  YOUTUBE_DL_(BYTES)  YOUTUBE_UL_(BYTES)  \\\n",
      "count            150001.000000  ...        1.500010e+05        1.500010e+05   \n",
      "mean              13381.943420  ...        1.163407e+07        1.100941e+07   \n",
      "std               23949.068654  ...        6.710569e+06        6.345423e+06   \n",
      "min                   1.000000  ...        5.300000e+01        1.050000e+02   \n",
      "25%                  43.000000  ...        5.833501e+06        5.517965e+06   \n",
      "50%                  65.000000  ...        1.161602e+07        1.101345e+07   \n",
      "75%               19710.000000  ...        1.744852e+07        1.651556e+07   \n",
      "max              378160.000000  ...        2.325910e+07        2.201196e+07   \n",
      "\n",
      "       NETFLIX_DL_(BYTES)  NETFLIX_UL_(BYTES)  GAMING_DL_(BYTES)  \\\n",
      "count        1.500010e+05        1.500010e+05       1.500010e+05   \n",
      "mean         1.162685e+07        1.100175e+07       4.220447e+08   \n",
      "std          6.725218e+06        6.359490e+06       2.439675e+08   \n",
      "min          4.200000e+01        3.500000e+01       2.516000e+03   \n",
      "25%          5.777156e+06        5.475981e+06       2.104733e+08   \n",
      "50%          1.164222e+07        1.099638e+07       4.234081e+08   \n",
      "75%          1.747048e+07        1.650727e+07       6.331742e+08   \n",
      "max          2.325919e+07        2.201196e+07       8.434419e+08   \n",
      "\n",
      "       GAMING_UL_(BYTES)  OTHER_DL_(BYTES)  OTHER_UL_(BYTES)  \\\n",
      "count       1.500010e+05      1.500010e+05      1.500010e+05   \n",
      "mean        8.288398e+06      4.211005e+08      8.264799e+06   \n",
      "std         4.782700e+06      2.432050e+08      4.769004e+06   \n",
      "min         5.900000e+01      3.290000e+03      1.480000e+02   \n",
      "25%         4.128476e+06      2.101869e+08      4.145943e+06   \n",
      "50%         8.291208e+06      4.218030e+08      8.267071e+06   \n",
      "75%         1.243162e+07      6.316918e+08      1.238415e+07   \n",
      "max         1.655879e+07      8.434425e+08      1.655882e+07   \n",
      "\n",
      "       TOTAL_UL_(BYTES)  TOTAL_DL_(BYTES)  \n",
      "count      1.500010e+05      1.500010e+05  \n",
      "mean       4.112121e+07      4.546434e+08  \n",
      "std        1.127635e+07      2.441421e+08  \n",
      "min        2.866892e+06      7.114041e+06  \n",
      "25%        3.322203e+07      2.431072e+08  \n",
      "50%        4.114324e+07      4.558409e+08  \n",
      "75%        4.903424e+07      6.657051e+08  \n",
      "max        7.833131e+07      9.029696e+08  \n",
      "\n",
      "[8 rows x 50 columns]\n"
     ]
    }
   ],
   "source": [
    "telecom_data_processor.overview_analysis(cleaned_df)"
   ]
  },
  {
   "cell_type": "code",
   "execution_count": 8,
   "metadata": {},
   "outputs": [
    {
     "name": "stdout",
     "output_type": "stream",
     "text": [
      "Top 10 TCP Values:\n",
      "0    4.294426e+09\n",
      "1    4.291380e+09\n",
      "2    4.289877e+09\n",
      "3    4.289488e+09\n",
      "4    4.288060e+09\n",
      "5    4.275259e+09\n",
      "6    4.268432e+09\n",
      "7    4.259997e+09\n",
      "8    4.256650e+09\n",
      "9    4.254644e+09\n",
      "Name: TCP_VALUES, dtype: float64\n",
      "\n",
      "Bottom 10 TCP Values:\n",
      "0    1.0\n",
      "1    1.0\n",
      "2    1.0\n",
      "3    1.0\n",
      "4    1.0\n",
      "5    1.0\n",
      "6    1.0\n",
      "7    1.0\n",
      "8    1.0\n",
      "9    1.0\n",
      "Name: TCP_VALUES, dtype: float64\n",
      "\n",
      "Most Frequent TCP Values:\n",
      "     TCP_VALUES  count\n",
      "0  7.596587e+05  96649\n",
      "1  2.080991e+07  88146\n",
      "2  1.330000e+03   2343\n",
      "3  2.660000e+03   1156\n",
      "4  1.318000e+03    701\n",
      "5  3.990000e+03    662\n",
      "6  1.294000e+03    652\n",
      "7  5.320000e+03    468\n",
      "8  6.650000e+03    316\n",
      "9  2.636000e+03    308\n"
     ]
    }
   ],
   "source": [
    "tcp_columns = ['TCP_DL_RETRANS._VOL_(BYTES)', 'TCP_UL_RETRANS._VOL_(BYTES)']\n",
    "\n",
    "# Step 1: Flatten TCP values for analysis\n",
    "tcp_values = cleaned_df[tcp_columns].values.flatten()\n",
    "\n",
    "# Step 2: Create a DataFrame to analyze TCP values\n",
    "tcp_df = pd.DataFrame({'TCP_VALUES': tcp_values})\n",
    "\n",
    "# Step 3: Compute and list the top, bottom, and most frequent TCP values\n",
    "top_tcp_values = tcp_df['TCP_VALUES'].nlargest(10).reset_index(drop=True)\n",
    "bottom_tcp_values = tcp_df['TCP_VALUES'].nsmallest(10).reset_index(drop=True)\n",
    "most_frequent_tcp_values = tcp_df['TCP_VALUES'].value_counts().nlargest(10).reset_index()\n",
    "\n",
    "# Display the results\n",
    "print(\"Top 10 TCP Values:\")\n",
    "print(top_tcp_values)\n",
    "\n",
    "print(\"\\nBottom 10 TCP Values:\")\n",
    "print(bottom_tcp_values)\n",
    "\n",
    "print(\"\\nMost Frequent TCP Values:\")\n",
    "print(most_frequent_tcp_values)\n"
   ]
  }
 ],
 "metadata": {
  "kernelspec": {
   "display_name": "Python 3",
   "language": "python",
   "name": "python3"
  },
  "language_info": {
   "codemirror_mode": {
    "name": "ipython",
    "version": 3
   },
   "file_extension": ".py",
   "mimetype": "text/x-python",
   "name": "python",
   "nbconvert_exporter": "python",
   "pygments_lexer": "ipython3",
   "version": "3.12.0"
  }
 },
 "nbformat": 4,
 "nbformat_minor": 2
}
